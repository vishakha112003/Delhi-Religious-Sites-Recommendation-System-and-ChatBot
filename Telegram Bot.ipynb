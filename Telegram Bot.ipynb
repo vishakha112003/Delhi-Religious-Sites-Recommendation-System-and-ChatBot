{
 "cells": [
  {
   "cell_type": "markdown",
   "id": "0c8cf1e3",
   "metadata": {},
   "source": [
    "# Telegram Bot"
   ]
  },
  {
   "cell_type": "code",
   "execution_count": 1,
   "id": "27a5e505",
   "metadata": {},
   "outputs": [],
   "source": [
    "#importing necessary libraries\n",
    "import telebot\n",
    "import pandas as pd\n",
    "from telebot import types\n",
    "from sklearn.preprocessing import OneHotEncoder\n",
    "import re\n",
    "from sklearn.metrics.pairwise import cosine_similarity\n",
    "\n",
    "data=pd.read_csv('Cleaned_data.csv')\n",
    "\n",
    "# Replace this with your actual bot token\n",
    "bot = telebot.TeleBot(\"7445378294:AAFS_LavGa5y4Yplx55nYClyS61jDCENzbQ\")"
   ]
  },
  {
   "cell_type": "code",
   "execution_count": 2,
   "id": "b4f1d61b",
   "metadata": {},
   "outputs": [],
   "source": [
    "#introducing and starting the bot \n",
    "@bot.message_handler(commands=['start'])\n",
    "def start(message):\n",
    "    bot.reply_to(message, '''Greetings, seeker of serenity and wisdom! I am YourSpiritualGuide, your own personal spiritual guide bot on this journey through the sacred and serene landscapes of Delhi. With a city rich in history, culture, and spirituality, there are countless hallowed grounds waiting to be discovered.\n",
    "    🕌 Whether you seek the tranquility of ancient temples, the serenity of mosques, the peace of churches, or the quiet contemplation of gurudwaras, I am here to guide you.\n",
    "    📍 Simply share your preferences, be it by religion, region, or specific spiritual subcategories, and I will illuminate the path to the divine destinations that resonate with your soul. \n",
    "    The supported religions are Hinduism, Islam, Jainism, Sikhism and Christianity.\n",
    "    The supported regions are North, South, East, West, Central and Old Delhi.\n",
    "    The supported subcategories are Hindu Temple, Jain Temple, Church, Gurdwara, Mosque and Tomb.\n",
    "    Use the following commands to get started: \n",
    "    1) I practice (Type your Religion). Please recommend religious places in Delhi based on my preference. \n",
    "    2) I wish to visit a (Type your Subcategory) in Delhi. Please recommend religious sites in Delhi based on my preference.\n",
    "    3) I follow (Type your Religion) and I want to visit relevant religious sites in (Type your Region preference).\n",
    "    4) I would like to visit a (Type your Subcategory) located in (Type your Region Preference) Delhi.''')"
   ]
  },
  {
   "cell_type": "code",
   "execution_count": 3,
   "id": "bd06f63f",
   "metadata": {},
   "outputs": [],
   "source": [
    "#This function is used to break the response into chunks as the response has a maximum limit \n",
    "def chunk_message(message, max_length=4096):\n",
    "    for i in range(0, len(message), max_length):\n",
    "        yield message[i:i + max_length]"
   ]
  },
  {
   "cell_type": "markdown",
   "id": "eb4e6185",
   "metadata": {},
   "source": [
    "### To give a response to the user based on his custom religion preference"
   ]
  },
  {
   "cell_type": "code",
   "execution_count": 4,
   "id": "d959570d",
   "metadata": {},
   "outputs": [],
   "source": [
    "def recommend_places(religion):\n",
    "    # Filter the data based on the provided religion\n",
    "    filtered_data = data[data['Religion'] == religion]\n",
    "    \n",
    "    # Extract names of religious places\n",
    "    places = filtered_data.to_dict('records')\n",
    "    \n",
    "    return places\n",
    "\n",
    "@bot.message_handler(func=lambda message: bool(re.search(r'\\b(I\\s+practice\\s+(?:Hinduism|Islam|Christianity|Jainism|Sikhism))', message.text, re.IGNORECASE)))\n",
    "def recommend(message):\n",
    "    try:\n",
    "        # Extract religion from user's message\n",
    "        match = re.search(r'\\b(I\\s+practice\\s+(Hinduism|Islam|Christianity|Jainism|Sikhism))', message.text, re.IGNORECASE)\n",
    "        if match:\n",
    "            religion = match.group(1).split()[-1]  # Extracting the religion from the matched group\n",
    "        else:\n",
    "            bot.reply_to(message, \"Please specify a valid religion (Hinduism, Islam, Christianity, Jainism, Sikhism).\")\n",
    "            return\n",
    "        \n",
    "        # Get the recommendations\n",
    "        places = recommend_places(religion)\n",
    "        \n",
    "        if places:\n",
    "            response = f\"Here's a list of recommended religious sites in Delhi for {religion}:\\n\"\n",
    "            for place in places:\n",
    "                response += f\"\\nName: {place['Names']}\\n\"\n",
    "                response += f\"Location: {place['Location']}\\n\"\n",
    "                response += f\"Description: {place['Description']}\\n\"\n",
    "                response += f\"How to Reach: {place['How to Reach?']}\\n\"\n",
    "                response += f\"Opening and Closing Hours: {place['Opening and Closing Hours']}\\n\"\n",
    "                response += \"----------------------\\n\"\n",
    "        else:\n",
    "            response = f\"No places found for {religion}.\"\n",
    "        \n",
    "        # Send the response in chunks\n",
    "        for chunk in chunk_message(response):\n",
    "            bot.reply_to(message, chunk)\n",
    "    except Exception as e:\n",
    "        bot.reply_to(message, str(e))"
   ]
  },
  {
   "cell_type": "markdown",
   "id": "05834401",
   "metadata": {},
   "source": [
    "#### The next step is done as the Hindu Temple and Jain Temple are two separate words and to extract both the word's from user's message I am combining them into one."
   ]
  },
  {
   "cell_type": "code",
   "execution_count": 5,
   "id": "6b4dd443",
   "metadata": {},
   "outputs": [],
   "source": [
    "data['Subcategory'] = data['Subcategory'].str.replace('Hindu\\s+Temple', 'HinduTemple', regex=True)"
   ]
  },
  {
   "cell_type": "code",
   "execution_count": 6,
   "id": "5d1166ac",
   "metadata": {},
   "outputs": [],
   "source": [
    "data['Subcategory'] = data['Subcategory'].str.replace('Jain\\s+Temple', 'JainTemple', regex=True)"
   ]
  },
  {
   "cell_type": "markdown",
   "id": "7b87fd7e",
   "metadata": {},
   "source": [
    "### To give a response to the user based on his custom subcategory preference"
   ]
  },
  {
   "cell_type": "code",
   "execution_count": 7,
   "id": "7ded7af5",
   "metadata": {},
   "outputs": [],
   "source": [
    "def recommend_places_subcategory(subcategory):\n",
    "    # Filter the data based on the provided religion\n",
    "    filtered_data1 = data[data['Subcategory'] == subcategory]\n",
    "    \n",
    "    # Extract names of religious places\n",
    "    places1 = filtered_data1.to_dict('records1')\n",
    "    \n",
    "    return places1\n",
    "\n",
    "@bot.message_handler(func=lambda message: bool(re.search(r'\\b(I\\s+wish\\s+to\\s+visit\\s+a\\s+(?:HinduTemple|Mosque|Cathedral|Church|Gurdwara|Tomb|JainTemple))', message.text, re.IGNORECASE)))\n",
    "def recommend2(message):\n",
    "    try:\n",
    "        # Extract religion from user's message\n",
    "        match = re.search(r'\\b(I\\s+wish\\s+to\\s+visit\\s+a\\s+(HinduTemple|Mosque|Church|Gurdwara|Tomb|Cathedral|JainTemple))', message.text, re.IGNORECASE)\n",
    "        if match:\n",
    "            subcategory = match.group(1).split()[-1]\n",
    "        else:\n",
    "            bot.reply_to(message, \"Please specify a valid subcategory (Hindu Temple,Mosque,Church, Cathedral, Gurdwara,Tomb,Jain Temple).\")\n",
    "            return\n",
    "        \n",
    "        # Get the recommendations\n",
    "        places1 = recommend_places_subcategory(subcategory)\n",
    "        \n",
    "        if places1:\n",
    "            response = f\"Here's a list of recommended {subcategory}s:\\n\"\n",
    "            for place in places1:\n",
    "                response += f\"\\nName: {place['Names']}\\n\"\n",
    "                response += f\"Location: {place['Location']}\\n\"\n",
    "                response += f\"Description: {place['Description']}\\n\"\n",
    "                response += f\"How to Reach: {place['How to Reach?']}\\n\"\n",
    "                response += f\"Opening and Closing Hours: {place['Opening and Closing Hours']}\\n\"\n",
    "                response += \"----------------------\\n\"\n",
    "        else:\n",
    "            response = f\"No places found for {subcategory}.\"\n",
    "        \n",
    "        # Send the response in chunks\n",
    "        for chunk in chunk_message(response):\n",
    "            bot.reply_to(message, chunk)\n",
    "    except Exception as e:\n",
    "        bot.reply_to(message, str(e))"
   ]
  },
  {
   "cell_type": "markdown",
   "id": "ea2af263",
   "metadata": {},
   "source": [
    "### To give a response to the user based on his custom religion and region preference"
   ]
  },
  {
   "cell_type": "code",
   "execution_count": 8,
   "id": "84457aee",
   "metadata": {},
   "outputs": [],
   "source": [
    "def recommend_places_relregion(religion, region):\n",
    "    # Filter the data based on the provided religion and region\n",
    "    filtered_data2 = data[(data['Religion'] == religion) & (data['Region'].str.contains(region, case=False))]\n",
    "    # Extract names of religious places\n",
    "    places2 = filtered_data2.to_dict('records2')\n",
    "    return places2\n",
    "\n",
    "@bot.message_handler(func=lambda message: bool(re.search(r'\\b(I\\s+follow\\s+(?:Hinduism|Islam|Christianity|Jainism|Sikhism)\\b.*\\b(?:North|South|West|East|Central|Old)\\s+Delhi\\b)', message.text, re.IGNORECASE)))\n",
    "def recommend3(message):\n",
    "    try:\n",
    "        # Extract religion and region from user's message\n",
    "        match = re.search(r'\\bI\\s+follow\\s+(Hinduism|Islam|Christianity|Jainism|Sikhism)\\b.*\\b(North|South|West|East|Central|Old)\\s+Delhi\\b', message.text, re.IGNORECASE)\n",
    "        if match:\n",
    "            religion = match.group(1)  # Extracting the religion from the matched group\n",
    "            region = match.group(2) + \" Delhi\"  # Extracting the region from the matched group\n",
    "        else:\n",
    "            bot.reply_to(message, \"Please specify a valid religion (Hinduism, Islam, Christianity, Jainism, Sikhism) and region (North, South, West, East, Central, Old Delhi).\")\n",
    "            return\n",
    "        \n",
    "        # Get the recommendations\n",
    "        places2 = recommend_places_relregion(religion, region)\n",
    "        \n",
    "        if places2:\n",
    "            response = f\"Here's a list of recommended religious places for {religion} in {region}:\\n\"\n",
    "            for place in places2:\n",
    "                response += f\"\\nName: {place['Names']}\\n\"\n",
    "                response += f\"Location: {place['Location']}\\n\"\n",
    "                response += f\"Description: {place['Description']}\\n\"\n",
    "                response += f\"How to Reach: {place['How to Reach?']}\\n\"\n",
    "                response += f\"Opening and Closing Hours: {place['Opening and Closing Hours']}\\n\"\n",
    "                response += \"----------------------\\n\"\n",
    "        else:\n",
    "            response = f\"No places found for {religion} in {region}.\"\n",
    "        \n",
    "        # Send the response in chunks\n",
    "        for chunk in chunk_message(response):\n",
    "            bot.reply_to(message, chunk)\n",
    "    except Exception as e:\n",
    "        bot.reply_to(message, str(e))"
   ]
  },
  {
   "cell_type": "markdown",
   "id": "608ace30",
   "metadata": {},
   "source": [
    "### To give a response to the user based on his custom subcategory and region preference"
   ]
  },
  {
   "cell_type": "code",
   "execution_count": 9,
   "id": "f37d484a",
   "metadata": {},
   "outputs": [],
   "source": [
    "def recommend_places_subcatregion(subcategory, region):\n",
    "    # Filter the data based on the provided religion and region\n",
    "    filtered_data3 = data[(data['Subcategory'] == subcategory) & (data['Region'].str.contains(region, case=False))]\n",
    "    # Extract names of religious places\n",
    "    places3 = filtered_data3.to_dict('records3')\n",
    "    return places3\n",
    "\n",
    "@bot.message_handler(func=lambda message: bool(re.search(r'\\b(I\\s+would\\s+like\\s+to\\s+visit\\s+a\\s+(?:HinduTemple|Mosque|Church|Gurdwara|Tomb|JainTemple)\\b.*\\b(?:North|South|West|East|Central|Old)\\s+Delhi\\b)', message.text, re.IGNORECASE)))\n",
    "def recommend4(message):\n",
    "    try:\n",
    "        # Extract religion and region from user's message\n",
    "        match = re.search(r'\\bI\\s+would\\s+like\\s+to\\s+visit\\s+a\\s+(HinduTemple|Mosque|Church|Gurdwara|Tomb|JainTemple)\\b.*\\b(North|South|West|East|Central|Old)\\s+Delhi\\b', message.text, re.IGNORECASE)\n",
    "        if match:\n",
    "            subcategory = match.group(1)  # Extracting the religion from the matched group\n",
    "            region = match.group(2) + \" Delhi\"  # Extracting the region from the matched group\n",
    "        else:\n",
    "            bot.reply_to(message, \"Please specify a valid subcategory (Hindu Temple, Jain Temple, Church, Gurdwara, Mosque, Tomb) and region (North, South, West, East, Central, Old Delhi).\")\n",
    "            return\n",
    "        \n",
    "        # Get the recommendations\n",
    "        places3 = recommend_places_subcatregion(subcategory, region)\n",
    "        \n",
    "        if places3:\n",
    "            response = f\"Here's a list of recommended religious places for {subcategory} in {region}:\\n\"\n",
    "            for place in places3:\n",
    "                response += f\"\\nName: {place['Names']}\\n\"\n",
    "                response += f\"Location: {place['Location']}\\n\"\n",
    "                response += f\"Description: {place['Description']}\\n\"\n",
    "                response += f\"How to Reach: {place['How to Reach?']}\\n\"\n",
    "                response += f\"Opening and Closing Hours: {place['Opening and Closing Hours']}\\n\"\n",
    "                response += \"----------------------\\n\"\n",
    "        else:\n",
    "            response = f\"No places found for {subcategory} in {region}.\"\n",
    "        \n",
    "        # Send the response in chunks\n",
    "        for chunk in chunk_message(response):\n",
    "            bot.reply_to(message, chunk)\n",
    "    except Exception as e:\n",
    "        bot.reply_to(message, str(e))"
   ]
  },
  {
   "cell_type": "code",
   "execution_count": null,
   "id": "45513ca0",
   "metadata": {},
   "outputs": [],
   "source": [
    "# to start the bot \n",
    "bot.polling()"
   ]
  }
 ],
 "metadata": {
  "kernelspec": {
   "display_name": "Python 3 (ipykernel)",
   "language": "python",
   "name": "python3"
  },
  "language_info": {
   "codemirror_mode": {
    "name": "ipython",
    "version": 3
   },
   "file_extension": ".py",
   "mimetype": "text/x-python",
   "name": "python",
   "nbconvert_exporter": "python",
   "pygments_lexer": "ipython3",
   "version": "3.9.13"
  }
 },
 "nbformat": 4,
 "nbformat_minor": 5
}
