{
 "cells": [
  {
   "cell_type": "markdown",
   "id": "0d7265c4",
   "metadata": {},
   "source": [
    "# *Recommendation System for suggesting Religious Sites in Delhi based on the places they have visited or viewed before*"
   ]
  },
  {
   "cell_type": "code",
   "execution_count": 25,
   "id": "ea7fb8fb",
   "metadata": {},
   "outputs": [],
   "source": [
    "# import the libraries \n",
    "import pandas as pd\n",
    "from sklearn.preprocessing import OneHotEncoder\n",
    "from sklearn.metrics.pairwise import cosine_similarity"
   ]
  },
  {
   "cell_type": "code",
   "execution_count": 26,
   "id": "cd7cfdec",
   "metadata": {},
   "outputs": [],
   "source": [
    "#load the data\n",
    "data=pd.read_csv('Cleaned_data.csv')"
   ]
  },
  {
   "cell_type": "code",
   "execution_count": 27,
   "id": "11e1b344",
   "metadata": {},
   "outputs": [],
   "source": [
    "#Encoding the variables using One-Hot Encoding\n",
    "encoder = OneHotEncoder()\n",
    "encoded_features = encoder.fit_transform(data[['Religion', 'Region']])"
   ]
  },
  {
   "cell_type": "code",
   "execution_count": 28,
   "id": "20b5fc64",
   "metadata": {},
   "outputs": [],
   "source": [
    "#Computing the similarity matrix using cosine similarity \n",
    "similarity_matrix = cosine_similarity(encoded_features)"
   ]
  },
  {
   "cell_type": "code",
   "execution_count": 29,
   "id": "3dfaa9cb",
   "metadata": {},
   "outputs": [
    {
     "data": {
      "text/html": [
       "<div>\n",
       "<style scoped>\n",
       "    .dataframe tbody tr th:only-of-type {\n",
       "        vertical-align: middle;\n",
       "    }\n",
       "\n",
       "    .dataframe tbody tr th {\n",
       "        vertical-align: top;\n",
       "    }\n",
       "\n",
       "    .dataframe thead th {\n",
       "        text-align: right;\n",
       "    }\n",
       "</style>\n",
       "<table border=\"1\" class=\"dataframe\">\n",
       "  <thead>\n",
       "    <tr style=\"text-align: right;\">\n",
       "      <th></th>\n",
       "      <th>Names</th>\n",
       "      <th>Location</th>\n",
       "      <th>Subcategory</th>\n",
       "      <th>Description</th>\n",
       "      <th>Opening and Closing Hours</th>\n",
       "      <th>How to Reach?</th>\n",
       "      <th>Region</th>\n",
       "    </tr>\n",
       "  </thead>\n",
       "  <tbody>\n",
       "    <tr>\n",
       "      <th>39</th>\n",
       "      <td>Ravidas Temple</td>\n",
       "      <td>Tughlakabad</td>\n",
       "      <td>Hindu Temple</td>\n",
       "      <td>A temple dedicated to Guru Ravidas, a prominen...</td>\n",
       "      <td>Opens at 10 AM, closes at 5 PM</td>\n",
       "      <td>Near Karol Bagh, accessible by metro (Blue Lin...</td>\n",
       "      <td>South Delhi</td>\n",
       "    </tr>\n",
       "    <tr>\n",
       "      <th>46</th>\n",
       "      <td>Chhatarpur Temple</td>\n",
       "      <td>Chhatarpur, South Delhi district, Delhi, India</td>\n",
       "      <td>Hindu Temple</td>\n",
       "      <td>Chhatarpur Temple: One of the largest Hindu te...</td>\n",
       "      <td>Opens at 5 AM, closes at 9 PM</td>\n",
       "      <td>Near Chhatarpur, accessible by local transport</td>\n",
       "      <td>South Delhi</td>\n",
       "    </tr>\n",
       "    <tr>\n",
       "      <th>47</th>\n",
       "      <td>Chittaranjan Park Kali Mandir</td>\n",
       "      <td>Chittaranjan Park</td>\n",
       "      <td>Hindu Temple</td>\n",
       "      <td>A prominent temple dedicated to Goddess Kali, ...</td>\n",
       "      <td>Opens at 4:30 AM, closes at 9 PM</td>\n",
       "      <td>In Chittaranjan Park, accessible by local tran...</td>\n",
       "      <td>South Delhi</td>\n",
       "    </tr>\n",
       "    <tr>\n",
       "      <th>49</th>\n",
       "      <td>ISKCON Temple, Delhi</td>\n",
       "      <td>Hare Krishna Hills, East of Kailash</td>\n",
       "      <td>Hindu Temple</td>\n",
       "      <td>A major temple of the International Society fo...</td>\n",
       "      <td>Opens at 5 AM, closes at 10 PM</td>\n",
       "      <td>Near East of Kailash, accessible by metro (Vio...</td>\n",
       "      <td>South Delhi</td>\n",
       "    </tr>\n",
       "    <tr>\n",
       "      <th>50</th>\n",
       "      <td>Jagannath Temple, Delhi</td>\n",
       "      <td>C-Block, Safdarjung Deplopment Area, Bhagwan J...</td>\n",
       "      <td>Hindu Temple</td>\n",
       "      <td>A temple dedicated to Lord Jagannath, attracti...</td>\n",
       "      <td>Opens at 6 AM, closes at 10 PM</td>\n",
       "      <td>Near Hauz Khas, accessible by metro (Yellow Li...</td>\n",
       "      <td>South Delhi</td>\n",
       "    </tr>\n",
       "  </tbody>\n",
       "</table>\n",
       "</div>"
      ],
      "text/plain": [
       "                            Names  \\\n",
       "39                 Ravidas Temple   \n",
       "46              Chhatarpur Temple   \n",
       "47  Chittaranjan Park Kali Mandir   \n",
       "49           ISKCON Temple, Delhi   \n",
       "50        Jagannath Temple, Delhi   \n",
       "\n",
       "                                             Location   Subcategory  \\\n",
       "39                                        Tughlakabad  Hindu Temple   \n",
       "46     Chhatarpur, South Delhi district, Delhi, India  Hindu Temple   \n",
       "47                                  Chittaranjan Park  Hindu Temple   \n",
       "49                Hare Krishna Hills, East of Kailash  Hindu Temple   \n",
       "50  C-Block, Safdarjung Deplopment Area, Bhagwan J...  Hindu Temple   \n",
       "\n",
       "                                          Description  \\\n",
       "39  A temple dedicated to Guru Ravidas, a prominen...   \n",
       "46  Chhatarpur Temple: One of the largest Hindu te...   \n",
       "47  A prominent temple dedicated to Goddess Kali, ...   \n",
       "49  A major temple of the International Society fo...   \n",
       "50  A temple dedicated to Lord Jagannath, attracti...   \n",
       "\n",
       "           Opening and Closing Hours  \\\n",
       "39    Opens at 10 AM, closes at 5 PM   \n",
       "46     Opens at 5 AM, closes at 9 PM   \n",
       "47  Opens at 4:30 AM, closes at 9 PM   \n",
       "49    Opens at 5 AM, closes at 10 PM   \n",
       "50    Opens at 6 AM, closes at 10 PM   \n",
       "\n",
       "                                        How to Reach?       Region  \n",
       "39  Near Karol Bagh, accessible by metro (Blue Lin...  South Delhi  \n",
       "46     Near Chhatarpur, accessible by local transport  South Delhi  \n",
       "47  In Chittaranjan Park, accessible by local tran...  South Delhi  \n",
       "49  Near East of Kailash, accessible by metro (Vio...  South Delhi  \n",
       "50  Near Hauz Khas, accessible by metro (Yellow Li...  South Delhi  "
      ]
     },
     "execution_count": 29,
     "metadata": {},
     "output_type": "execute_result"
    }
   ],
   "source": [
    "#creating the recommendation function \n",
    "def recommend_similar_buildings(building_name, similarity_matrix, data, top_n=10):\n",
    "    building_idx = data[data['Names'] == building_name].index[0]\n",
    "    similarity_scores = list(enumerate(similarity_matrix[building_idx]))\n",
    "    similarity_scores = sorted(similarity_scores, key=lambda x: x[1], reverse=True)\n",
    "    similar_buildings_indices = [i[0] for i in similarity_scores[1:top_n+1]]\n",
    "    return data.iloc[similar_buildings_indices][['Names', 'Location', 'Subcategory', 'Description', 'Opening and Closing Hours', 'How to Reach?','Region']]\n",
    "\n",
    "building_name = \"Lotus Temple\"\n",
    "recommended_buildings = recommend_similar_buildings(building_name, similarity_matrix, data)\n",
    "recommended_buildings.head()"
   ]
  }
 ],
 "metadata": {
  "kernelspec": {
   "display_name": "Python 3 (ipykernel)",
   "language": "python",
   "name": "python3"
  },
  "language_info": {
   "codemirror_mode": {
    "name": "ipython",
    "version": 3
   },
   "file_extension": ".py",
   "mimetype": "text/x-python",
   "name": "python",
   "nbconvert_exporter": "python",
   "pygments_lexer": "ipython3",
   "version": "3.9.13"
  }
 },
 "nbformat": 4,
 "nbformat_minor": 5
}
